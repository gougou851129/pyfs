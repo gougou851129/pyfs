{
 "cells": [
  {
   "cell_type": "code",
   "execution_count": null,
   "metadata": {},
   "outputs": [],
   "source": [
    "# Eliminate Warnings related to Unverified HTTPS requests being made\n",
    "import warnings; warnings.simplefilter('ignore')"
   ]
  },
  {
   "cell_type": "code",
   "execution_count": null,
   "metadata": {},
   "outputs": [],
   "source": [
    "# Initilialize pyFS Object - using fsconfig.yml config file. \n",
    "from pyFS import pyFS\n",
    "ca = pyFS()"
   ]
  },
  {
   "cell_type": "markdown",
   "metadata": {},
   "source": [
    "# 1.1. Whitelist a MAC Address for Printers "
   ]
  },
  {
   "cell_type": "code",
   "execution_count": null,
   "metadata": {},
   "outputs": [],
   "source": [
    "# Create a List of MAC Addresses - named printers-list in this example \n",
    "# clear Existing Values if any\n",
    "pl = 'printers-list'\n",
    "res, resp = ca.deleteAllListValues(pl)\n",
    "res"
   ]
  },
  {
   "cell_type": "code",
   "execution_count": null,
   "metadata": {},
   "outputs": [],
   "source": [
    "# Sample Response for debugging purposes if needed\n",
    "print(resp)"
   ]
  },
  {
   "cell_type": "code",
   "execution_count": null,
   "metadata": {},
   "outputs": [],
   "source": [
    "# add a mac address to pl list\n",
    "res, resp = ca.addListValues(pl, 'd80f99704520')\n",
    "res"
   ]
  },
  {
   "cell_type": "code",
   "execution_count": null,
   "metadata": {},
   "outputs": [],
   "source": [
    "# add another mac address to pl list - this time not a printer! \n",
    "res, resp = ca.addListValues(pl, '000c29dd3413')\n",
    "res"
   ]
  },
  {
   "cell_type": "markdown",
   "metadata": {},
   "source": [
    "# 1.2. Hunting for \"Programmatically Updated\" Blacklisted Processes List"
   ]
  },
  {
   "cell_type": "code",
   "execution_count": null,
   "metadata": {},
   "outputs": [],
   "source": [
    "# Create a List of Blacklisted Windows Process  - named bl-proccess in this example \n",
    "# clear Existing Values if any\n",
    "blp = 'bl-proccess'\n",
    "res, resp = ca.deleteAllListValues(blp)\n",
    "res"
   ]
  },
  {
   "cell_type": "code",
   "execution_count": null,
   "metadata": {},
   "outputs": [],
   "source": [
    "# add a process name or list of process names to hunt for \n",
    "res, resp = ca.addListValues(blp, '485E')\n",
    "res"
   ]
  },
  {
   "cell_type": "code",
   "execution_count": null,
   "metadata": {},
   "outputs": [],
   "source": [
    "res, resp = ca.addListValues(blp, ['air89', 'AnonProxy'])\n",
    "res"
   ]
  },
  {
   "cell_type": "markdown",
   "metadata": {},
   "source": [
    "# 1.3. CVEs Hunting "
   ]
  },
  {
   "cell_type": "code",
   "execution_count": null,
   "metadata": {},
   "outputs": [],
   "source": [
    "# Create a List of Windows Vulnerabilities - CVE Name  - named cve-list in this example \n",
    "# clear Existing Values if any\n",
    "cvl = 'cve-list'\n",
    "res, resp = ca.deleteAllListValues(cvl)\n",
    "res"
   ]
  },
  {
   "cell_type": "code",
   "execution_count": null,
   "metadata": {},
   "outputs": [],
   "source": [
    "# add a CVE Number or list of CVEs to hunt for \n",
    "res, resp = ca.addListValues(cvl, 'CVE-2016-0450')\n",
    "res"
   ]
  },
  {
   "cell_type": "code",
   "execution_count": null,
   "metadata": {},
   "outputs": [],
   "source": [
    "res, resp = ca.addListValues(cvl, ['CVE-2016-0507', 'CVE-2016-0607'])\n",
    "res"
   ]
  },
  {
   "cell_type": "markdown",
   "metadata": {},
   "source": [
    "# 1.4. Dynamic Hunt for Malicious DNS Entries"
   ]
  },
  {
   "cell_type": "code",
   "execution_count": null,
   "metadata": {},
   "outputs": [],
   "source": [
    "# Create a List of malicious DNS Entries - named malicious-dns-list in this example \n",
    "# clear Existing Values if any\n",
    "mdl = 'malicious-dns-list'\n",
    "res, resp = ca.deleteAllListValues(mdl)\n",
    "res"
   ]
  },
  {
   "cell_type": "code",
   "execution_count": null,
   "metadata": {},
   "outputs": [],
   "source": [
    "# add a malicious DNS Entry to hunt for \n",
    "res, resp = ca.addListValues(mdl, 'piratesbay.net')\n",
    "res"
   ]
  },
  {
   "cell_type": "code",
   "execution_count": null,
   "metadata": {},
   "outputs": [],
   "source": [
    "# Trigger malicious DNS entry Name Resolution - SPAN needs to be monitoring DNS Traffic \n",
    "!ping piratesbay.net -c 2"
   ]
  },
  {
   "cell_type": "code",
   "execution_count": null,
   "metadata": {},
   "outputs": [],
   "source": []
  }
 ],
 "metadata": {
  "kernelspec": {
   "display_name": "Python 3",
   "language": "python",
   "name": "python3"
  },
  "language_info": {
   "codemirror_mode": {
    "name": "ipython",
    "version": 3
   },
   "file_extension": ".py",
   "mimetype": "text/x-python",
   "name": "python",
   "nbconvert_exporter": "python",
   "pygments_lexer": "ipython3",
   "version": "3.6.8"
  }
 },
 "nbformat": 4,
 "nbformat_minor": 2
}
